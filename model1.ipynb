{
 "cells": [
  {
   "cell_type": "markdown",
   "metadata": {},
   "source": [
    "# Chest X-Ray Model 1\n",
    "\n",
    "Date: 8/18/2024\n",
    "\n",
    "Author: Sylas Chacko"
   ]
  },
  {
   "cell_type": "code",
   "execution_count": 3,
   "metadata": {},
   "outputs": [],
   "source": [
    "import numpy as np\n",
    "import pandas as pd\n",
    "import tensorflow as tf\n",
    "from tensorflow.keras.applications import VGG16\n",
    "from tensorflow.keras.models import Model\n",
    "from tensorflow.keras.layers import Dense, Flatten, Dropout, GlobalAveragePooling2D\n",
    "from tensorflow.keras.optimizers import Adam\n",
    "from tensorflow.keras.utils import to_categorical\n",
    "from sklearn.model_selection import train_test_split\n",
    "import os\n",
    "from pathlib import Path\n"
   ]
  },
  {
   "cell_type": "markdown",
   "metadata": {},
   "source": [
    "## Data Preprocessing Labels"
   ]
  },
  {
   "cell_type": "code",
   "execution_count": 1,
   "metadata": {},
   "outputs": [],
   "source": [
    "def list_files_in_folder(folder_path, output_csv):\n",
    "    # Get a list of all files in the specified folder\n",
    "    file_names = [f for f in os.listdir(folder_path) if os.path.isfile(os.path.join(folder_path, f))]\n",
    "    \n",
    "    # Write the file names to a CSV file\n",
    "    with open(output_csv, mode='w', newline='') as file:\n",
    "        writer = csv.writer(file)\n",
    "        # Write header\n",
    "        writer.writerow(['File_Name'])\n",
    "        # Write file names\n",
    "        for file_name in file_names:\n",
    "            writer.writerow([file_name])\n",
    "\n",
    "# Example usage\n",
    "folder_path = r'C:\\Users\\sylas\\OneDrive\\Projects\\medical_images\\data\\sample\\s_train_pipeline\\s_train_final'  \n",
    "output_csv = 'file_names.csv'  \n",
    "list_files_in_folder(folder_path, output_csv)\n"
   ]
  },
  {
   "cell_type": "code",
   "execution_count": 6,
   "metadata": {},
   "outputs": [
    {
     "name": "stdout",
     "output_type": "stream",
     "text": [
      "Image Labels CSV created at: C:\\Users\\sylas\\OneDrive\\Projects\\medical_images\\Image_Labels.csv\n"
     ]
    }
   ],
   "source": [
    "# Define paths to the CSV files and directory\n",
    "labels_file_path = r'C:\\Users\\sylas\\OneDrive\\Projects\\medical_images\\data\\sample_labels.csv'\n",
    "file_names_file = r'C:\\Users\\sylas\\OneDrive\\Projects\\medical_images\\file_names.csv'\n",
    "output_csv = r'C:\\Users\\sylas\\OneDrive\\Projects\\medical_images\\Image_Labels.csv'  \n",
    "\n",
    "# Read the CSV files\n",
    "labels_df = pd.read_csv(labels_file_path)\n",
    "file_names_df = pd.read_csv(file_names_file)\n",
    "\n",
    "# Extract the file names from file_names.csv and truncate to the first 12 characters\n",
    "file_names = [f[:12] for f in file_names_df['File_Name'].tolist()]\n",
    "\n",
    "# Truncate the 'Image Index' in sample_labels.csv to the first 12 characters\n",
    "labels_df['Truncated_Image_Index'] = labels_df['Image Index'].str[:12]\n",
    "\n",
    "# Initialize a list to store the matched data\n",
    "data = []\n",
    "\n",
    "# Loop through each row in the labels DataFrame\n",
    "for _, row in labels_df.iterrows():\n",
    "    truncated_file_name = row['Truncated_Image_Index']\n",
    "    disease = row['Finding Labels']\n",
    "    \n",
    "    # Check if the truncated file name exists in the list of file names from file_names.csv\n",
    "    if truncated_file_name in file_names:\n",
    "        # Find all matching augmented versions of the file\n",
    "        matching_files = [f for f in file_names_df['File_Name'] if f.startswith(truncated_file_name)]\n",
    "        # Append each augmented version with its disease label\n",
    "        for match in matching_files:\n",
    "            data.append({'File_Name': match, 'Disease': disease})\n",
    "\n",
    "# Check if data was found and create a DataFrame\n",
    "if data:\n",
    "    df = pd.DataFrame(data)\n",
    "    df.to_csv(output_csv, index=False)\n",
    "    print('Image Labels CSV created at:', output_csv)\n",
    "else:\n",
    "    print('No matching data processed. Check file paths and file availability.')\n"
   ]
  }
 ],
 "metadata": {
  "kernelspec": {
   "display_name": "medical_imaging",
   "language": "python",
   "name": "python3"
  },
  "language_info": {
   "codemirror_mode": {
    "name": "ipython",
    "version": 3
   },
   "file_extension": ".py",
   "mimetype": "text/x-python",
   "name": "python",
   "nbconvert_exporter": "python",
   "pygments_lexer": "ipython3",
   "version": "3.8.18"
  }
 },
 "nbformat": 4,
 "nbformat_minor": 2
}
