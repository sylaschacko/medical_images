{
 "cells": [
  {
   "cell_type": "markdown",
   "metadata": {},
   "source": [
    "# Chest X-Ray Model 1\n",
    "\n",
    "Date: 8/18/2024\n",
    "\n",
    "Author: Sylas Chacko"
   ]
  },
  {
   "cell_type": "code",
   "execution_count": 2,
   "metadata": {},
   "outputs": [],
   "source": [
    "import numpy as np\n",
    "import pandas as pd\n",
    "import tensorflow as tf\n",
    "from tensorflow.keras.applications import VGG16\n",
    "from tensorflow.keras.models import Model\n",
    "from tensorflow.keras.layers import Dense, Flatten, Dropout, GlobalAveragePooling2D\n",
    "from tensorflow.keras.optimizers import Adam\n",
    "from tensorflow.keras.utils import to_categorical\n",
    "from sklearn.model_selection import train_test_split\n",
    "import os\n",
    "from pathlib import Path\n"
   ]
  },
  {
   "cell_type": "markdown",
   "metadata": {},
   "source": [
    "## Data Preprocessing Labels"
   ]
  },
  {
   "cell_type": "code",
   "execution_count": null,
   "metadata": {},
   "outputs": [],
   "source": [
    "labels_df = pd.read_csv(r'C:\\Users\\sylas\\OneDrive\\Projects\\medical_images\\data\\sample_labels.csv')\n",
    "directory = r\"C:\\Users\\sylas\\OneDrive\\Projects\\medical_images\\data\\sample\\sample\\images\"\n",
    "\n",
    "# Have to adjust for _aug_i file name \n",
    "\n",
    "data = []\n",
    "\n",
    "for i, row in labels_df.iterrows():\n",
    "    file_name = row['Image Index']\n",
    "#    f_names = row[['Image Index']+f'_aug_{i+1}']\n",
    "    disease = row['Finding Labels']\n",
    "    file_path = os.path.join(directory, file_name)\n",
    "    if os.path.exists(file_path):\n",
    "        for frame in labels_df:\n",
    "            frame_dict = {'Disease' : disease, 'File_Name' : file_name}\n",
    "    else:\n",
    "        print('File not found: {}'.format(file_path))\n",
    "\n",
    "if data:\n",
    "    df = pd.DataFrame(frame_dict)\n",
    "    df.to_csv('Image Labels')\n",
    "    print('Image Labels csv created.')\n",
    "else:\n",
    "    print('No data processed. Check file paths and file availability.')\n"
   ]
  }
 ],
 "metadata": {
  "kernelspec": {
   "display_name": "medical_imaging",
   "language": "python",
   "name": "python3"
  },
  "language_info": {
   "codemirror_mode": {
    "name": "ipython",
    "version": 3
   },
   "file_extension": ".py",
   "mimetype": "text/x-python",
   "name": "python",
   "nbconvert_exporter": "python",
   "pygments_lexer": "ipython3",
   "version": "3.8.18"
  }
 },
 "nbformat": 4,
 "nbformat_minor": 2
}
